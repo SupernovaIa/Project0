{
 "cells": [
  {
   "cell_type": "markdown",
   "metadata": {},
   "source": [
    "<div style=\"text-align: center;\">\n",
    "  <img src=\"https://github.com/Hack-io-Data/Imagenes/blob/main/01-LogosHackio/logo_celeste@4x.png?raw=true\" alt=\"esquema\" />\n",
    "</div>"
   ]
  },
  {
   "cell_type": "markdown",
   "metadata": {},
   "source": [
    "\n",
    "#### Genera un dicionario con los nombres, apellidos y empresas de la siguinete lista de correos. \n",
    "\n",
    "Te deberá quedar un diccionario parecido al que se muestra a continuación: \n",
    "\n",
    "![resultado](https://github.com/Hack-io-Data/Imagenes/blob/main/04-Prework/Python/diccionario-bonus-strings.png?raw=true)"
   ]
  },
  {
   "cell_type": "code",
   "execution_count": 2,
   "metadata": {},
   "outputs": [],
   "source": [
    "a = \"\"\"john.doe@tecnologiainnovadora.com\n",
    "jane.doe@empresatecnologica.com\n",
    "jim.smith@solucionesdigitales.com\n",
    "mary.jane@tecnologiapionera.com\n",
    "bob.jones@innovaciontecnologica.com\n",
    "alice.smith@desarrollotecnologico.com\n",
    "tom.jones@tecnologiadinamica.com\n",
    "sally.jones@tecnologiamoderna.com\n",
    "jerry.smith@solucionestech.com\n",
    "beth.jones@tecnologiavanguardista.com\n",
    "john.smith@tecnologiasavanzadas.com\n",
    "jane.doe@empresadigital.com\n",
    "jim.jones@tecnologiadinamica.com\n",
    "mary.smith@innovaciondigital.com\n",
    "bob.doe@solucionesinformaticas.com\n",
    "\"\"\"\n"
   ]
  },
  {
   "cell_type": "code",
   "execution_count": 7,
   "metadata": {},
   "outputs": [
    {
     "data": {
      "text/plain": [
       "['john.doe@tecnologiainnovadora',\n",
       " 'jane.doe@empresatecnologica',\n",
       " 'jim.smith@solucionesdigitales',\n",
       " 'mary.jane@tecnologiapionera',\n",
       " 'bob.jones@innovaciontecnologica',\n",
       " 'alice.smith@desarrollotecnologico',\n",
       " 'tom.jones@tecnologiadinamica',\n",
       " 'sally.jones@tecnologiamoderna',\n",
       " 'jerry.smith@solucionestech',\n",
       " 'beth.jones@tecnologiavanguardista',\n",
       " 'john.smith@tecnologiasavanzadas',\n",
       " 'jane.doe@empresadigital',\n",
       " 'jim.jones@tecnologiadinamica',\n",
       " 'mary.smith@innovaciondigital',\n",
       " 'bob.doe@solucionesinformaticas',\n",
       " '']"
      ]
     },
     "execution_count": 7,
     "metadata": {},
     "output_type": "execute_result"
    }
   ],
   "source": [
    "lista = a.split(\".com\\n\")\n",
    "\n",
    "lista"
   ]
  },
  {
   "cell_type": "code",
   "execution_count": 14,
   "metadata": {},
   "outputs": [],
   "source": [
    "nombres = []\n",
    "apellidos = []\n",
    "empresas = []\n",
    "\n",
    "for user in lista:\n",
    "    if user != '':\n",
    "        info = user.split('@')\n",
    "        nombre_completo = info[0].split('.')\n",
    "        nombres.append(nombre_completo[0])\n",
    "        apellidos.append(nombre_completo[1])\n",
    "        empresas.append(info[1])"
   ]
  },
  {
   "cell_type": "code",
   "execution_count": 20,
   "metadata": {},
   "outputs": [
    {
     "data": {
      "text/plain": [
       "{'nombre': ['john',\n",
       "  'jane',\n",
       "  'jim',\n",
       "  'mary',\n",
       "  'bob',\n",
       "  'alice',\n",
       "  'tom',\n",
       "  'sally',\n",
       "  'jerry',\n",
       "  'beth',\n",
       "  'john',\n",
       "  'jane',\n",
       "  'jim',\n",
       "  'mary',\n",
       "  'bob'],\n",
       " 'apellido': ['doe',\n",
       "  'doe',\n",
       "  'smith',\n",
       "  'jane',\n",
       "  'jones',\n",
       "  'smith',\n",
       "  'jones',\n",
       "  'jones',\n",
       "  'smith',\n",
       "  'jones',\n",
       "  'smith',\n",
       "  'doe',\n",
       "  'jones',\n",
       "  'smith',\n",
       "  'doe'],\n",
       " 'empresa': ['tecnologiainnovadora',\n",
       "  'empresatecnologica',\n",
       "  'solucionesdigitales',\n",
       "  'tecnologiapionera',\n",
       "  'innovaciontecnologica',\n",
       "  'desarrollotecnologico',\n",
       "  'tecnologiadinamica',\n",
       "  'tecnologiamoderna',\n",
       "  'solucionestech',\n",
       "  'tecnologiavanguardista',\n",
       "  'tecnologiasavanzadas',\n",
       "  'empresadigital',\n",
       "  'tecnologiadinamica',\n",
       "  'innovaciondigital',\n",
       "  'solucionesinformaticas']}"
      ]
     },
     "execution_count": 20,
     "metadata": {},
     "output_type": "execute_result"
    }
   ],
   "source": [
    "dc = {'nombre': nombres, 'apellido': apellidos, 'empresa': empresas}\n",
    "\n",
    "dc"
   ]
  }
 ],
 "metadata": {
  "kernelspec": {
   "display_name": "hackio",
   "language": "python",
   "name": "python3"
  },
  "language_info": {
   "codemirror_mode": {
    "name": "ipython",
    "version": 3
   },
   "file_extension": ".py",
   "mimetype": "text/x-python",
   "name": "python",
   "nbconvert_exporter": "python",
   "pygments_lexer": "ipython3",
   "version": "3.12.4"
  }
 },
 "nbformat": 4,
 "nbformat_minor": 2
}
