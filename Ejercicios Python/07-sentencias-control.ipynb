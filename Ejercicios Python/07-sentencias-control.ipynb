{
 "cells": [
  {
   "cell_type": "markdown",
   "metadata": {},
   "source": [
    "<div style=\"text-align: center;\">\n",
    "  <img src=\"https://github.com/Hack-io-Data/Imagenes/blob/main/01-LogosHackio/logo_celeste@4x.png?raw=true\" alt=\"logo hack(io)\" />\n",
    "</div>"
   ]
  },
  {
   "cell_type": "markdown",
   "metadata": {},
   "source": [
    "#### 1. Escribe un programa que determine si un número es par o impar.\n",
    "\n"
   ]
  },
  {
   "cell_type": "code",
   "execution_count": 29,
   "metadata": {},
   "outputs": [
    {
     "name": "stdout",
     "output_type": "stream",
     "text": [
      "Introduce un número entero\n"
     ]
    }
   ],
   "source": [
    "num = input(\"Introduce tu nota\")\n",
    "\n",
    "if num.isdigit():\n",
    "    num = int(num)\n",
    "\n",
    "    print(\"El número es par\") if num % 2 == 0 else print(\"El número es impar\")\n",
    "\n",
    "else:\n",
    "    print(\"Introduce un número entero\")"
   ]
  },
  {
   "cell_type": "markdown",
   "metadata": {},
   "source": [
    "#### 2. Genera un programa que nos diga si es de noche, de día o tarde según la hora proporcionada por el usuario."
   ]
  },
  {
   "cell_type": "code",
   "execution_count": 41,
   "metadata": {},
   "outputs": [
    {
     "name": "stdout",
     "output_type": "stream",
     "text": [
      "Introduce un número entero positivo\n"
     ]
    }
   ],
   "source": [
    "hora = input(\"Introduce la hora del día: \")\n",
    "\n",
    "if hora.isdigit():\n",
    "    hora = int(hora)\n",
    "\n",
    "    if hora < 0:\n",
    "        print(\"Introduce una hora válida\")\n",
    "\n",
    "    elif hora < 7:\n",
    "        print(\"Noche\")\n",
    "\n",
    "    elif hora < 17:\n",
    "        print(\"Día\")\n",
    "\n",
    "    elif hora < 22:\n",
    "        print(\"Tarde\")\n",
    "\n",
    "    elif hora < 24:\n",
    "        print(\"Noche\")\n",
    "\n",
    "    else:\n",
    "        print(\"Introduce una hora válida\")\n",
    "\n",
    "else:\n",
    "    print(\"Introduce un número entero positivo\")"
   ]
  },
  {
   "cell_type": "markdown",
   "metadata": {},
   "source": [
    "#### 3. Dado un nombre imprime un saludo personalizado."
   ]
  },
  {
   "cell_type": "code",
   "execution_count": 11,
   "metadata": {},
   "outputs": [
    {
     "name": "stdout",
     "output_type": "stream",
     "text": [
      "¡Hola jacinto!\n"
     ]
    }
   ],
   "source": [
    "nombre = input(\"Introduce un nombre:\" )\n",
    "\n",
    "print(\"¡Hola\", nombre + \"!\")"
   ]
  },
  {
   "cell_type": "markdown",
   "metadata": {},
   "source": [
    "#### 4. Escribe un programa que determine qué calificación en texto tiene un alumno en base a su calificación numérica. Las reglas de calificación son: \n",
    "\n",
    "- 0 - 69 insuficiente\n",
    "\n",
    "- 70 - 79 bien\n",
    "\n",
    "- 80 - 89 muy bien\n",
    "\n",
    "- 90 - 100 excelente\n"
   ]
  },
  {
   "cell_type": "code",
   "execution_count": 26,
   "metadata": {},
   "outputs": [
    {
     "name": "stdout",
     "output_type": "stream",
     "text": [
      "La nota no puede ser mayor que 100, crack\n"
     ]
    }
   ],
   "source": [
    "calif = input(\"Introduce tu nota\")\n",
    "\n",
    "if calif.isdigit():\n",
    "    calif = int(calif)\n",
    "\n",
    "    if calif < 0:\n",
    "        print(\"La nota ha de ser mayor que 0\")\n",
    "\n",
    "    elif calif < 70:\n",
    "        print(\"Insuficiente\")\n",
    "\n",
    "    elif calif < 80:\n",
    "        print(\"Bien\")\n",
    "\n",
    "    elif calif < 90:\n",
    "        print(\"Muy bien\")\n",
    "\n",
    "    elif calif < 101:\n",
    "        print(\"Excelente\")\n",
    "\n",
    "    else:\n",
    "        print(\"La nota no puede ser mayor que 100, crack\")\n",
    "\n",
    "else:\n",
    "    print(\"Introduce un número entero\")"
   ]
  },
  {
   "cell_type": "markdown",
   "metadata": {},
   "source": [
    "#### 5. Escribe un programa que imprima el día de la semana, dado un número del 1 al 7.\n"
   ]
  },
  {
   "cell_type": "code",
   "execution_count": 48,
   "metadata": {},
   "outputs": [
    {
     "name": "stdout",
     "output_type": "stream",
     "text": [
      "Introduce un número válido\n"
     ]
    }
   ],
   "source": [
    "days = [\"Lunes\", \"Martes\", \"Miércoles\", \"Jueves\", \"Viernes\", \"Sábado\", \"Domingo\"]\n",
    "\n",
    "day = input(\"¿Qué día es?\")\n",
    "\n",
    "if day.isdigit():\n",
    "    day = int(day)\n",
    "\n",
    "    if day in range(1, 8):\n",
    "        print(days[day - 1])\n",
    "\n",
    "    else:\n",
    "        print(\"Introduce un valor válido\")\n",
    "\n",
    "else:\n",
    "    print(\"Introduce un número válido\")"
   ]
  },
  {
   "cell_type": "markdown",
   "metadata": {},
   "source": [
    "#### 6. Escribe un programa que determine si un número es positivo, negativo o cero."
   ]
  },
  {
   "cell_type": "code",
   "execution_count": 68,
   "metadata": {},
   "outputs": [
    {
     "name": "stdout",
     "output_type": "stream",
     "text": [
      "Positivo\n"
     ]
    }
   ],
   "source": [
    "# Vamos a sofisticarlo un poco introducendo manejo de excepciones\n",
    "\n",
    "try:\n",
    "    num = float(input(\"Introduce un número\"))\n",
    "\n",
    "    if num < 0:\n",
    "        print(\"Negativo\")\n",
    "    elif num > 0:\n",
    "        print(\"Positivo\")\n",
    "    elif num == 0:\n",
    "        print(\"Cero\")\n",
    "\n",
    "except ValueError:\n",
    "    print(\"Introduce un número válido\")"
   ]
  },
  {
   "cell_type": "markdown",
   "metadata": {},
   "source": [
    "#### 7. Escribe un programa que determine si una persona puede conducir o no. La edad mínima para conducir es 18 años. \n"
   ]
  },
  {
   "cell_type": "code",
   "execution_count": 77,
   "metadata": {},
   "outputs": [
    {
     "name": "stdout",
     "output_type": "stream",
     "text": [
      "Puede conducir\n"
     ]
    }
   ],
   "source": [
    "try:\n",
    "    edad = int(input(\"Introduce la edad: \"))\n",
    "\n",
    "    if edad < 0:\n",
    "        print(\"La edad debe ser positiva\")\n",
    "    elif edad < 18:\n",
    "        print(\"No puede conducir\")\n",
    "    else:\n",
    "        print(\"Puede conducir\")\n",
    "\n",
    "except ValueError:\n",
    "    print(\"La edad debe ser un número entero\")"
   ]
  },
  {
   "cell_type": "markdown",
   "metadata": {},
   "source": [
    "#### 8. Escribe un programa que determine si un estudiante aprobó o suspendió un examen."
   ]
  },
  {
   "cell_type": "code",
   "execution_count": 86,
   "metadata": {},
   "outputs": [
    {
     "name": "stdout",
     "output_type": "stream",
     "text": [
      "¿A dónde vas? La nota no puede ser más de 10, crack\n"
     ]
    }
   ],
   "source": [
    "try:\n",
    "    nota = float(input(\"Introduce la nota: \"))\n",
    "\n",
    "    if nota < 0:\n",
    "        print(\"La nota no puede ser negativa\")\n",
    "\n",
    "    elif nota < 5:\n",
    "        print(\"Suspenso\")\n",
    "\n",
    "    elif nota <= 10:\n",
    "        print(\"Aprobado\")\n",
    "\n",
    "    else:\n",
    "        print(\"¿A dónde vas? La nota no puede ser más de 10, crack\")\n",
    "        \n",
    "except ValueError:\n",
    "    print(\"La nota debe ser un número\")"
   ]
  },
  {
   "cell_type": "markdown",
   "metadata": {},
   "source": [
    "#### 9. Escribe un programa que determine si un número es múltiplo de 3 y 5.\n"
   ]
  },
  {
   "cell_type": "code",
   "execution_count": 97,
   "metadata": {},
   "outputs": [
    {
     "name": "stdout",
     "output_type": "stream",
     "text": [
      "Debes introducir un número entero\n"
     ]
    }
   ],
   "source": [
    "try:\n",
    "    num = int(input(\"Introduce el número: \"))\n",
    "\n",
    "    if num < 0:\n",
    "        print(\"No pongas un número negativo\")\n",
    "\n",
    "    elif num % 3 == 0 and num % 5 == 0:\n",
    "        print(\"Múltiplo de 3 y 5\")\n",
    "\n",
    "    else:\n",
    "        print(\"No es múltiplo de 3 y 5\")\n",
    "\n",
    "except ValueError:\n",
    "    print(\"Debes introducir un número entero\")"
   ]
  },
  {
   "cell_type": "markdown",
   "metadata": {},
   "source": [
    "#### 10. Escribe un programa que determine si un número es par o impar.\n"
   ]
  },
  {
   "cell_type": "code",
   "execution_count": 98,
   "metadata": {},
   "outputs": [
    {
     "name": "stdout",
     "output_type": "stream",
     "text": [
      "El número es par\n"
     ]
    }
   ],
   "source": [
    "# Es el mismo que el 1\n",
    "\n",
    "num = input(\"Introduce tu nota\")\n",
    "\n",
    "if num.isdigit():\n",
    "    num = int(num)\n",
    "\n",
    "    print(\"El número es par\") if num % 2 == 0 else print(\"El número es impar\")\n",
    "\n",
    "else:\n",
    "    print(\"Introduce un número entero\")"
   ]
  }
 ],
 "metadata": {
  "kernelspec": {
   "display_name": "hackio",
   "language": "python",
   "name": "python3"
  },
  "language_info": {
   "codemirror_mode": {
    "name": "ipython",
    "version": 3
   },
   "file_extension": ".py",
   "mimetype": "text/x-python",
   "name": "python",
   "nbconvert_exporter": "python",
   "pygments_lexer": "ipython3",
   "version": "3.12.4"
  }
 },
 "nbformat": 4,
 "nbformat_minor": 2
}
