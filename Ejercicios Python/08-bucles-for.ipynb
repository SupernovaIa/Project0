{
 "cells": [
  {
   "cell_type": "markdown",
   "metadata": {},
   "source": [
    "<div style=\"text-align: center;\">\n",
    "  <img src=\"https://github.com/Hack-io-Data/Imagenes/blob/main/01-LogosHackio/logo_celeste@4x.png?raw=true\" alt=\"logo hack(io)\" />\n",
    "</div>"
   ]
  },
  {
   "cell_type": "markdown",
   "metadata": {},
   "source": [
    "####  1. Genera una lista de números del 0 al 4 y luego imprime cada número en la lista usando un `bucle for`. "
   ]
  },
  {
   "cell_type": "code",
   "execution_count": 8,
   "metadata": {},
   "outputs": [
    {
     "name": "stdout",
     "output_type": "stream",
     "text": [
      "0\n",
      "1\n",
      "2\n",
      "3\n",
      "4\n"
     ]
    }
   ],
   "source": [
    "lista = list(range(0, 5))\n",
    "\n",
    "for num in lista:\n",
    "    print(num)"
   ]
  },
  {
   "cell_type": "markdown",
   "metadata": {},
   "source": [
    "#### 2. Itera sobre una lista de frutas y muestra cada fruta en mayúsculas. \n"
   ]
  },
  {
   "cell_type": "code",
   "execution_count": 9,
   "metadata": {},
   "outputs": [
    {
     "name": "stdout",
     "output_type": "stream",
     "text": [
      "MANZANA\n",
      "PERA\n",
      "PLÁTANO\n",
      "PIÑA\n"
     ]
    }
   ],
   "source": [
    "frutas = [\"manzana\", \"pera\", \"plátano\", \"piña\"]\n",
    "\n",
    "for fruta in frutas:\n",
    "    print(fruta.upper())"
   ]
  },
  {
   "cell_type": "markdown",
   "metadata": {},
   "source": [
    "####  3. Genera un bucle while que imprima los números del 0 al 4. \n"
   ]
  },
  {
   "cell_type": "code",
   "execution_count": 10,
   "metadata": {},
   "outputs": [
    {
     "name": "stdout",
     "output_type": "stream",
     "text": [
      "0\n",
      "1\n",
      "2\n",
      "3\n",
      "4\n"
     ]
    }
   ],
   "source": [
    "num = 0\n",
    "\n",
    "while num <= 4:\n",
    "    print(num)\n",
    "    num += 1"
   ]
  },
  {
   "cell_type": "markdown",
   "metadata": {},
   "source": [
    "#### 4. Genera un bucle del 0 al 9, pero que se detenga en el 5.\n"
   ]
  },
  {
   "cell_type": "code",
   "execution_count": 11,
   "metadata": {},
   "outputs": [
    {
     "name": "stdout",
     "output_type": "stream",
     "text": [
      "0\n",
      "1\n",
      "2\n",
      "3\n",
      "4\n",
      "5\n"
     ]
    }
   ],
   "source": [
    "for i in range(0, 10):\n",
    "    print(i)\n",
    "\n",
    "    if i >= 5:\n",
    "        break"
   ]
  },
  {
   "cell_type": "markdown",
   "metadata": {},
   "source": [
    "#### 5. Recorre los números del 0 al 9 e imprime solo los números impares."
   ]
  },
  {
   "cell_type": "code",
   "execution_count": 12,
   "metadata": {},
   "outputs": [
    {
     "name": "stdout",
     "output_type": "stream",
     "text": [
      "0\n",
      "2\n",
      "4\n",
      "6\n",
      "8\n"
     ]
    }
   ],
   "source": [
    "for i in range(0, 10):\n",
    "\n",
    "    if i % 2 == 0:\n",
    "        print(i)"
   ]
  },
  {
   "cell_type": "markdown",
   "metadata": {},
   "source": [
    "#### 6. Dada la lista `[10, 20, 30, 40, 50]`, calcula la suma de todos los elementos usando un bucle `for`."
   ]
  },
  {
   "cell_type": "code",
   "execution_count": 13,
   "metadata": {},
   "outputs": [
    {
     "name": "stdout",
     "output_type": "stream",
     "text": [
      "150\n"
     ]
    }
   ],
   "source": [
    "numbers = [10, 20, 30, 40, 50]\n",
    "\n",
    "suma = 0\n",
    "\n",
    "for num in numbers:\n",
    "    suma += num\n",
    "\n",
    "print(suma)"
   ]
  },
  {
   "cell_type": "markdown",
   "metadata": {},
   "source": [
    "#### 7. Dada la cadena `\"Hola mundo\"`, cuenta cuántas veces aparecen las vocales (`a`, `e`, `i`, `o`, `u`) usando un bucle `for`.\n"
   ]
  },
  {
   "cell_type": "code",
   "execution_count": 18,
   "metadata": {},
   "outputs": [
    {
     "name": "stdout",
     "output_type": "stream",
     "text": [
      "{'a': 1, 'e': 0, 'i': 0, 'o': 2, 'u': 1}\n"
     ]
    }
   ],
   "source": [
    "chain = \"Hola mundo\"\n",
    "vowels = [\"a\", \"e\", \"i\", \"o\", \"u\"]\n",
    "times = {}\n",
    "\n",
    "for vow in vowels:\n",
    "    times.update({vow: chain.count(vow)})\n",
    "\n",
    "print(times)\n"
   ]
  },
  {
   "cell_type": "markdown",
   "metadata": {},
   "source": [
    "#### 8. Dada la cadena `\"Python\"`, usa un bucle `for` para imprimir los caracteres en orden inverso (`n`, `o`, `h`, `t`, `y`, `P`).\n"
   ]
  },
  {
   "cell_type": "code",
   "execution_count": 19,
   "metadata": {},
   "outputs": [
    {
     "name": "stdout",
     "output_type": "stream",
     "text": [
      "n\n",
      "o\n",
      "h\n",
      "t\n",
      "y\n",
      "P\n"
     ]
    }
   ],
   "source": [
    "py = \"Python\"\n",
    "\n",
    "for char in py[::-1]:\n",
    "    print(char)"
   ]
  },
  {
   "cell_type": "markdown",
   "metadata": {},
   "source": [
    "#### 9. Dada la lista `[1, 2, 3, 4, 5]`, multiplica todos sus elementos usando un bucle `for` y almacena los resultados en una lista nueva. \n"
   ]
  },
  {
   "cell_type": "code",
   "execution_count": 20,
   "metadata": {},
   "outputs": [
    {
     "name": "stdout",
     "output_type": "stream",
     "text": [
      "[1, 2, 6, 24, 120]\n"
     ]
    }
   ],
   "source": [
    "lista = [1, 2, 3, 4, 5]\n",
    "\n",
    "prod = [1]\n",
    "\n",
    "for i in range(1, len(lista)):\n",
    "    prod.append(prod[i-1] * lista[i])\n",
    "\n",
    "print(prod)"
   ]
  },
  {
   "cell_type": "markdown",
   "metadata": {},
   "source": [
    "#### 10. Dada la lista `[1, 2, 3, 4, 5, 6, 7, 8, 9, 10]`, utiliza un bucle `for` para contar cuántos números son pares y cuántos son impares."
   ]
  },
  {
   "cell_type": "code",
   "execution_count": 23,
   "metadata": {},
   "outputs": [
    {
     "name": "stdout",
     "output_type": "stream",
     "text": [
      "Hay 5 números pares y 5 números impares\n"
     ]
    }
   ],
   "source": [
    "lista = [1, 2, 3, 4, 5, 6, 7, 8, 9, 10]\n",
    "\n",
    "pares = 0\n",
    "impares = 0\n",
    "\n",
    "for num in lista:\n",
    "    if num % 2 == 0:\n",
    "        pares += 1\n",
    "\n",
    "    else:\n",
    "        impares += 1\n",
    "\n",
    "print(\"Hay\", pares, \"números pares y\", impares, \"números impares\")"
   ]
  },
  {
   "cell_type": "markdown",
   "metadata": {},
   "source": [
    "#### 11. Escribe un programa que solicite al usuario un número entero positivo (`n`) y calcule la suma de todos los números primos menores o iguales a `n`. Utiliza un bucle `for` para iterar sobre cada número y verifica si es primo."
   ]
  },
  {
   "cell_type": "code",
   "execution_count": 25,
   "metadata": {},
   "outputs": [
    {
     "name": "stdout",
     "output_type": "stream",
     "text": [
      "Números primos encontrados: [2, 3, 5, 7, 11, 13, 17, 19, 23, 29, 31, 37, 41, 43, 47, 53, 59, 61, 67, 71, 73, 79, 83, 89, 97, 101]\n",
      "La suma de los números primos es: 1161\n"
     ]
    }
   ],
   "source": [
    "try:\n",
    "    n = int(input(\"Introduce un número: \"))\n",
    "    \n",
    "    if n < 3:\n",
    "        print(\"Por favor, introduce un valor mayor que 2\")\n",
    "    else:\n",
    "        primos = [2]\n",
    "        # Solo iteramos sobre los números impares, ya que los pares no son primos (excepto 2)\n",
    "        for i in range(3, n + 1, 2):\n",
    "            es_primo = True\n",
    "            for primo in primos:\n",
    "                # Solo probar hasta la raíz cuadrada del número\n",
    "                if primo > int(i**0.5) + 1:\n",
    "                    break\n",
    "                if i % primo == 0:\n",
    "                    es_primo = False\n",
    "                    break\n",
    "            if es_primo:\n",
    "                primos.append(i)\n",
    "\n",
    "        print(\"Números primos encontrados:\", primos)\n",
    "        print(\"La suma de los números primos es:\", sum(primos))\n",
    "\n",
    "except ValueError:\n",
    "    print(\"Introduce un valor que sea un entero válido.\")"
   ]
  },
  {
   "cell_type": "markdown",
   "metadata": {},
   "source": [
    "#### 12. Escribe un programa que solicite al usuario un número entero positivo (`n`) y luego imprima un patrón de asteriscos como el siguiente ejemplo para `n = 5`:\n",
    "```\n",
    "*\n",
    "**\n",
    "***\n",
    "****\n",
    "*****\n",
    "```\n",
    "Utiliza un bucle `for` anidado para controlar la cantidad de asteriscos en cada línea."
   ]
  },
  {
   "cell_type": "code",
   "execution_count": 32,
   "metadata": {},
   "outputs": [
    {
     "name": "stdout",
     "output_type": "stream",
     "text": [
      "*\n",
      "**\n",
      "***\n",
      "****\n",
      "*****\n",
      "******\n",
      "*******\n",
      "********\n",
      "*********\n",
      "**********\n"
     ]
    }
   ],
   "source": [
    "try:\n",
    "    n = int(input(\"Introduce un número: \"))\n",
    "\n",
    "    if n < 1:\n",
    "        print(\"Alucinas colega, ¿cómo vas a hacer una pirámide con menos de 1 nivel?\")\n",
    "\n",
    "    else:\n",
    "        for i in range(1, n + 1):\n",
    "            print(\"*\" * i)\n",
    "\n",
    "except ValueError:\n",
    "    print(\"Introduce un número entero válido\")"
   ]
  },
  {
   "cell_type": "markdown",
   "metadata": {},
   "source": [
    "#### 13. Dado un texto, utiliza un bucle `for` para contar cuántas veces aparece cada palabra en el texto. Ignora mayúsculas/minúsculas y los signos de puntuación."
   ]
  },
  {
   "cell_type": "code",
   "execution_count": 36,
   "metadata": {},
   "outputs": [
    {
     "name": "stdout",
     "output_type": "stream",
     "text": [
      "{'La': 10, 'Luna': 7, 'Brilla': 1, 'En': 2, 'El': 1, 'Cielo.': 1, 'Es': 1, 'Hermosa,': 1, 'Ilumina': 1, 'Noche.': 1, 'Tiene': 1, 'Un': 1, 'Encanto': 1, 'Especial.': 1, 'Guía': 1, 'Los': 2, 'Pasos': 1, 'De': 2, 'Que': 1, 'Miran.': 1, 'Refleja': 1, 'Sueños': 1, 'Y': 1, 'Siempre': 1, 'Está': 1, 'Allí,': 1, 'Silencio,': 1, 'Vigilando': 1, 'Cada': 1, 'Rincón': 1, 'Tierra.': 1}\n"
     ]
    }
   ],
   "source": [
    "texto = input(\"Escribe aquí tu texto\").title()\n",
    "words = texto.split()\n",
    "times = {}\n",
    "\n",
    "for word in words:\n",
    "    times.update({word: words.count(word)})\n",
    "\n",
    "print(times)"
   ]
  },
  {
   "cell_type": "markdown",
   "metadata": {},
   "source": [
    "#### 14. Escribe un programa que solicite al usuario dos números enteros positivos (`inicio` y `fin`, donde `inicio <= fin`) y luego calcule la suma de los números pares y la suma de los números impares en ese rango. Utiliza un bucle `for` para iterar sobre cada número y una estructura `if-else` para clasificar y sumar los números pares e impares."
   ]
  },
  {
   "cell_type": "code",
   "execution_count": 46,
   "metadata": {},
   "outputs": [
    {
     "name": "stdout",
     "output_type": "stream",
     "text": [
      "Pares: 10 \n",
      "Impares: 12\n"
     ]
    }
   ],
   "source": [
    "try:\n",
    "    inicio = int(input(\"Introduce el valor de inicio\"))\n",
    "    fin = int(input(\"Introduce un valor final\"))\n",
    "\n",
    "    if inicio > fin:\n",
    "        print(\"Inicio ha de ser menor o igual que fin\")\n",
    "\n",
    "    else:\n",
    "\n",
    "        pares = 0\n",
    "        impares = 0\n",
    "        for i in range(inicio, fin + 1):\n",
    "            if i % 2 == 0:\n",
    "                pares += i\n",
    "            else:\n",
    "                impares += i\n",
    "    \n",
    "        print(\"Pares:\", pares, \"\\nImpares:\", impares)\n",
    "\n",
    "except ValueError:\n",
    "    print(\"Introduce un valor entero\")"
   ]
  },
  {
   "cell_type": "markdown",
   "metadata": {},
   "source": [
    "#### 15. Escribe un programa que solicite al usuario un número entero positivo (`n`) y luego identifique todos los números primos menores o iguales a `n`. Para cada número, imprime si es primo o no usando un bucle `for` y una estructura `if-else` para verificar la condición de primalidad."
   ]
  },
  {
   "cell_type": "code",
   "execution_count": 3,
   "metadata": {},
   "outputs": [
    {
     "name": "stdout",
     "output_type": "stream",
     "text": [
      "1 no es primo\n",
      "2 es primo\n",
      "3 es primo\n",
      "4 no es primo\n",
      "5 es primo\n",
      "6 no es primo\n",
      "7 es primo\n",
      "8 no es primo\n",
      "9 no es primo\n",
      "10 no es primo\n",
      "11 es primo\n",
      "12 no es primo\n",
      "13 es primo\n",
      "14 no es primo\n",
      "15 no es primo\n",
      "16 no es primo\n",
      "17 es primo\n",
      "18 no es primo\n",
      "19 es primo\n",
      "20 no es primo\n",
      "21 no es primo\n",
      "22 no es primo\n",
      "23 es primo\n",
      "24 no es primo\n",
      "25 no es primo\n",
      "26 no es primo\n",
      "27 no es primo\n",
      "28 no es primo\n",
      "29 es primo\n",
      "30 no es primo\n",
      "31 es primo\n",
      "32 no es primo\n",
      "33 no es primo\n",
      "34 no es primo\n",
      "35 no es primo\n",
      "36 no es primo\n",
      "37 es primo\n",
      "38 no es primo\n",
      "39 no es primo\n",
      "40 no es primo\n",
      "41 es primo\n",
      "42 no es primo\n",
      "43 es primo\n",
      "44 no es primo\n",
      "45 no es primo\n",
      "46 no es primo\n",
      "47 es primo\n",
      "48 no es primo\n",
      "49 no es primo\n",
      "50 no es primo\n",
      "51 no es primo\n",
      "52 no es primo\n",
      "53 es primo\n",
      "54 no es primo\n",
      "55 no es primo\n",
      "56 no es primo\n",
      "57 no es primo\n",
      "58 no es primo\n",
      "59 es primo\n",
      "60 no es primo\n",
      "61 es primo\n",
      "62 no es primo\n",
      "63 no es primo\n",
      "64 no es primo\n",
      "65 no es primo\n",
      "66 no es primo\n",
      "67 es primo\n",
      "68 no es primo\n",
      "69 no es primo\n",
      "70 no es primo\n",
      "71 es primo\n",
      "72 no es primo\n",
      "73 es primo\n",
      "74 no es primo\n",
      "75 no es primo\n",
      "76 no es primo\n",
      "77 no es primo\n",
      "78 no es primo\n",
      "79 es primo\n",
      "80 no es primo\n",
      "81 no es primo\n",
      "82 no es primo\n",
      "83 es primo\n",
      "84 no es primo\n",
      "85 no es primo\n",
      "86 no es primo\n",
      "87 no es primo\n",
      "88 no es primo\n",
      "89 es primo\n",
      "90 no es primo\n",
      "91 no es primo\n",
      "92 no es primo\n",
      "93 no es primo\n",
      "94 no es primo\n",
      "95 no es primo\n",
      "96 no es primo\n",
      "97 es primo\n",
      "98 no es primo\n",
      "99 no es primo\n",
      "100 no es primo\n"
     ]
    }
   ],
   "source": [
    "try:\n",
    "    n = int(input(\"Introduce un número: \"))\n",
    "    \n",
    "    if n < 3:\n",
    "        print(\"Por favor, introduce un valor mayor que 2\")\n",
    "    else:\n",
    "        primos = [2]\n",
    "        # Solo iteramos sobre los números impares, ya que los pares no son primos (excepto 2)\n",
    "        for i in range(3, n + 1, 2):\n",
    "            es_primo = True\n",
    "            for primo in primos:\n",
    "                # Solo probar hasta la raíz cuadrada del número\n",
    "                if primo > int(i**0.5) + 1:\n",
    "                    break\n",
    "                if i % primo == 0:\n",
    "                    es_primo = False\n",
    "                    break\n",
    "            if es_primo:\n",
    "                primos.append(i)\n",
    "\n",
    "        for i in range(1, n + 1):\n",
    "            if i in primos:\n",
    "                print(i, \"es primo\")\n",
    "\n",
    "            else:\n",
    "                print(i, \"no es primo\")\n",
    "\n",
    "except ValueError:\n",
    "    print(\"Introduce un valor que sea un entero válido.\")"
   ]
  },
  {
   "cell_type": "markdown",
   "metadata": {},
   "source": [
    "#### 16.Dada una lista de precios `[100, 200, 300, 400, 500]`, aplica un descuento del 10% a todos los precios mayores a `250`. Imprime la lista actualizada de precios después de aplicar el descuento utilizando un bucle `for`. "
   ]
  },
  {
   "cell_type": "code",
   "execution_count": 51,
   "metadata": {},
   "outputs": [
    {
     "name": "stdout",
     "output_type": "stream",
     "text": [
      "[100, 200, 270.0, 360.0, 450.0]\n"
     ]
    }
   ],
   "source": [
    "precios = [100, 200, 300, 400, 500]\n",
    "\n",
    "for i in range(len(precios)):\n",
    "    precios[i] = precios[i] * 0.9 if precios[i] > 250 else precios[i]\n",
    "\n",
    "print(precios)"
   ]
  },
  {
   "cell_type": "markdown",
   "metadata": {},
   "source": [
    "#### 17. Dada una lista de calificaciones de estudiantes `[85, 92, 78, 90, 88]`, clasifica a cada estudiante como \"Aprobado\" si la calificación es mayor o igual a `80` y como \"Reprobado\" si es menor a `80`. Imprime el nombre de cada estudiante junto con su estado utilizando un bucle `for` y una estructura `if-else`.\n"
   ]
  },
  {
   "cell_type": "code",
   "execution_count": 52,
   "metadata": {},
   "outputs": [
    {
     "name": "stdout",
     "output_type": "stream",
     "text": [
      "Ana ha aprobado\n",
      "Yona ha aprobado\n",
      "Jeancha ha reprobado\n",
      "Silvia ha aprobado\n",
      "Jaime ha aprobado\n"
     ]
    }
   ],
   "source": [
    "calif = [85, 92, 78, 90, 88]\n",
    "nombres = [\"Ana\", \"Yona\", \"Jeancha\", \"Silvia\", \"Jaime\"]\n",
    "\n",
    "for i in range(len(calif)):\n",
    "    if calif[i] >= 80:\n",
    "        state = \"aprobado\"\n",
    "\n",
    "    else:\n",
    "        state = \"reprobado\"\n",
    "\n",
    "    print(nombres[i], f\"ha {state}\")"
   ]
  },
  {
   "cell_type": "markdown",
   "metadata": {},
   "source": [
    "\n",
    "#### 18. Escribe un programa que solicite al usuario dos números enteros positivos (`inicio`, `fin`) y otro número entero positivo (`divisor`). Encuentra el número más grande en el rango desde `inicio` hasta `fin` que sea divisible por `divisor`. Utiliza un bucle `for` y una estructura `if-else` para verificar y mantener el registro del número más grande divisible por el divisor dado.\n"
   ]
  },
  {
   "cell_type": "code",
   "execution_count": 9,
   "metadata": {},
   "outputs": [
    {
     "name": "stdout",
     "output_type": "stream",
     "text": [
      "297 es el mayor valor en (50,300) divisible por 99 ya que 297/99 es 3 con resto 0.\n"
     ]
    }
   ],
   "source": [
    "try:\n",
    "    inicio = int(input(\"Introduce el valor de inicio\"))\n",
    "    fin = int(input(\"Introduce un valor final\"))\n",
    "    divisor = int(input(\"Introduce un valor divisor\"))\n",
    "\n",
    "    if inicio > fin:\n",
    "        print(\"Inicio ha de ser menor o igual que fin\")\n",
    "\n",
    "    elif divisor < 1 or inicio < 1:\n",
    "        print(\"Introduce solo números positivos\")\n",
    "\n",
    "    else:\n",
    "        result = None\n",
    "        for i in range(inicio, fin + 1):\n",
    "            if i % divisor == 0:\n",
    "                result = i\n",
    "\n",
    "    print(f\"{result} es el mayor valor en ({inicio},{fin}) divisible por {divisor} ya que {result}/{divisor} es {result // divisor} con resto {result % divisor}.\")\n",
    "\n",
    "except ValueError:\n",
    "    print(\"Introduce un valor entero\")"
   ]
  },
  {
   "cell_type": "code",
   "execution_count": null,
   "metadata": {},
   "outputs": [],
   "source": []
  }
 ],
 "metadata": {
  "kernelspec": {
   "display_name": "hackio",
   "language": "python",
   "name": "python3"
  },
  "language_info": {
   "codemirror_mode": {
    "name": "ipython",
    "version": 3
   },
   "file_extension": ".py",
   "mimetype": "text/x-python",
   "name": "python",
   "nbconvert_exporter": "python",
   "pygments_lexer": "ipython3",
   "version": "3.12.4"
  }
 },
 "nbformat": 4,
 "nbformat_minor": 2
}
