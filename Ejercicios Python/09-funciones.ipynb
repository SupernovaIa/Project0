{
 "cells": [
  {
   "cell_type": "markdown",
   "metadata": {},
   "source": [
    "\n",
    "<div style=\"text-align: center;\">\n",
    "  <img src=\"https://github.com/Hack-io-Data/Imagenes/blob/main/01-LogosHackio/logo_celeste@4x.png?raw=true\" alt=\"esquema\" />\n",
    "</div>"
   ]
  },
  {
   "cell_type": "markdown",
   "metadata": {},
   "source": [
    "#### 1. Escribe una función sin parámetros que imprima el siguiente mensaje \"¡Hola! Bienvenido.\"\n"
   ]
  },
  {
   "cell_type": "code",
   "execution_count": 2,
   "metadata": {},
   "outputs": [
    {
     "name": "stdout",
     "output_type": "stream",
     "text": [
      "¡Hola! Bienvenido\n"
     ]
    }
   ],
   "source": [
    "def hola():\n",
    "    print(\"¡Hola! Bienvenido\")\n",
    "\n",
    "hola()"
   ]
  },
  {
   "cell_type": "markdown",
   "metadata": {},
   "source": [
    "#### 2. Escribe una función que reciba dos parámetros y devuelva la suma de ambos.\n"
   ]
  },
  {
   "cell_type": "code",
   "execution_count": 6,
   "metadata": {},
   "outputs": [
    {
     "data": {
      "text/plain": [
       "13"
      ]
     },
     "execution_count": 6,
     "metadata": {},
     "output_type": "execute_result"
    }
   ],
   "source": [
    "def suma(a, b):\n",
    "    return a + b\n",
    "\n",
    "suma(8, 5)"
   ]
  },
  {
   "cell_type": "markdown",
   "metadata": {},
   "source": [
    "#### 3. Escribe una función que reciba un número y devuelva True si es par, False si no lo es."
   ]
  },
  {
   "cell_type": "code",
   "execution_count": 9,
   "metadata": {},
   "outputs": [
    {
     "name": "stdout",
     "output_type": "stream",
     "text": [
      "False True\n"
     ]
    }
   ],
   "source": [
    "def par(a):\n",
    "    return True if a % 2 == 0 else False\n",
    "\n",
    "print(par(3), par(4))"
   ]
  },
  {
   "cell_type": "markdown",
   "metadata": {},
   "source": [
    "#### 4. Escribe un función que devuelva un saludo personalizado a una persona dado su nombre. \n"
   ]
  },
  {
   "cell_type": "code",
   "execution_count": 13,
   "metadata": {},
   "outputs": [
    {
     "name": "stdout",
     "output_type": "stream",
     "text": [
      "¡Hola, Jeancha!\n"
     ]
    }
   ],
   "source": [
    "def hola():\n",
    "    print(\"¡Hola,\", input(\"Introduce tu nombre\") + \"!\")\n",
    "\n",
    "hola()"
   ]
  },
  {
   "cell_type": "markdown",
   "metadata": {},
   "source": [
    "#### 5. Escribe una función que sume todos los números que reciba como argumento. La función debe recibir una cantidad variable de argumentos y devolver la suma de todos ellos."
   ]
  },
  {
   "cell_type": "code",
   "execution_count": 21,
   "metadata": {},
   "outputs": [
    {
     "data": {
      "text/plain": [
       "26.8"
      ]
     },
     "execution_count": 21,
     "metadata": {},
     "output_type": "execute_result"
    }
   ],
   "source": [
    "def suma(*arg):\n",
    "    return sum(arg)\n",
    "\n",
    "suma(6, 13, 7.8)"
   ]
  },
  {
   "cell_type": "markdown",
   "metadata": {},
   "source": [
    "#### 6. Escribe una función que cuente las letras de una palabra y devuelva un diccionario con la cantidad de veces que se repite cada letra \n"
   ]
  },
  {
   "cell_type": "code",
   "execution_count": 28,
   "metadata": {},
   "outputs": [
    {
     "data": {
      "text/plain": [
       "{'j': 1,\n",
       " 'e': 2,\n",
       " 'a': 5,\n",
       " 'n': 1,\n",
       " ' ': 2,\n",
       " 'c': 1,\n",
       " 'h': 1,\n",
       " 'r': 1,\n",
       " 'l': 1,\n",
       " 's': 1,\n",
       " 'y': 1,\n",
       " 'm': 1,\n",
       " 'd': 1}"
      ]
     },
     "execution_count": 28,
     "metadata": {},
     "output_type": "execute_result"
    }
   ],
   "source": [
    "def contar(palabra):\n",
    "    palabra = palabra.lower()\n",
    "\n",
    "    veces = {}\n",
    "\n",
    "    for letra in palabra:\n",
    "        veces.update({letra: palabra.count(letra)})\n",
    "        \n",
    "    return veces\n",
    "\n",
    "contar(\"Jean Charles Yamada\")"
   ]
  },
  {
   "cell_type": "markdown",
   "metadata": {},
   "source": [
    "#### 7. Escribe un función recursiva para calcular el factorial de un número entero no negativo."
   ]
  },
  {
   "cell_type": "code",
   "execution_count": 37,
   "metadata": {},
   "outputs": [
    {
     "data": {
      "text/plain": [
       "720"
      ]
     },
     "execution_count": 37,
     "metadata": {},
     "output_type": "execute_result"
    }
   ],
   "source": [
    "def factorial(n):\n",
    "    if n == 1:\n",
    "        return 1\n",
    "    elif n < 1:\n",
    "        print(\"Pon un número mayor o igual a 1\")\n",
    "        return None\n",
    "    else:\n",
    "        return factorial(n-1) * n\n",
    "    \n",
    "factorial(6)"
   ]
  },
  {
   "cell_type": "markdown",
   "metadata": {},
   "source": [
    "#### 8. Escribe una función que tome dos parámetros: `figura` (una cadena que puede ser `\"rectangulo\"`, `\"circulo\"` o `\"triangulo\"`) y `datos` (una tupla con los datos necesarios para calcular el área de la figura). "
   ]
  },
  {
   "cell_type": "code",
   "execution_count": 43,
   "metadata": {},
   "outputs": [
    {
     "name": "stdout",
     "output_type": "stream",
     "text": [
      "Área de un rectángulo: 12\n",
      "Área de un círculo: 18.84955592153876\n",
      "Área de un triángulo: 6.0\n",
      "Introduce figura y datos válidos\n",
      "Área de una elipse: None\n"
     ]
    }
   ],
   "source": [
    "import math\n",
    "\n",
    "def area(figura, datos):\n",
    "    if figura == \"rectangulo\":\n",
    "        return datos[0] * datos[1]\n",
    "    \n",
    "    elif figura == \"circulo\":\n",
    "        return 2 * math.pi * datos[0]\n",
    "    \n",
    "    elif figura == \"triangulo\":\n",
    "        return datos[0] * datos[1] / 2\n",
    "    \n",
    "    else:\n",
    "        print(\"Introduce figura y datos válidos\")\n",
    "\n",
    "print(\"Área de un rectángulo:\", area(\"rectangulo\", (3, 4)))\n",
    "print(\"Área de un círculo:\", area(\"circulo\", (3,)))\n",
    "print(\"Área de un triángulo:\", area(\"triangulo\", (3, 4)))\n",
    "print(\"Área de una elipse:\", area(\"elipse\", (3, 4)))\n"
   ]
  },
  {
   "cell_type": "markdown",
   "metadata": {},
   "source": [
    "#### 9. Escribe una función que tome una lista de números como parámetro y devuelva el número más grande de la lista. No utilices la función `max()` de Python en tu solución."
   ]
  },
  {
   "cell_type": "code",
   "execution_count": 49,
   "metadata": {},
   "outputs": [
    {
     "data": {
      "text/plain": [
       "5.5"
      ]
     },
     "execution_count": 49,
     "metadata": {},
     "output_type": "execute_result"
    }
   ],
   "source": [
    "def maximum(l):\n",
    "    mx = l[0]\n",
    "    for i in range(len(l)):\n",
    "        if l[i] > mx:\n",
    "            mx = l[i]\n",
    "\n",
    "    return mx\n",
    "\n",
    "maximum([3, 5.5, 4, -6.4 ,-10])\n"
   ]
  },
  {
   "cell_type": "markdown",
   "metadata": {},
   "source": [
    "#### 10. Escribe una función que tome una cadena como parámetro un texto y devuelva `True` si la cadena es un palíndromo (se lee igual de izquierda a derecha que de derecha a izquierda), y `False` en caso contrario. Ignora los espacios y considera mayúsculas y minúsculas de manera insensible.\n"
   ]
  },
  {
   "cell_type": "code",
   "execution_count": 52,
   "metadata": {},
   "outputs": [
    {
     "data": {
      "text/plain": [
       "True"
      ]
     },
     "execution_count": 52,
     "metadata": {},
     "output_type": "execute_result"
    }
   ],
   "source": [
    "def palindrome(text):\n",
    "    text = text.lower()\n",
    "    text = text.replace(\" \", \"\")\n",
    "    return True if text == text[::-1] else False\n",
    "\n",
    "palindrome(\"hola aloh\")"
   ]
  },
  {
   "cell_type": "markdown",
   "metadata": {},
   "source": [
    "#### 11. Escribe una función que tome una cadena como parámetro y devuelva dos valores: la cantidad de vocales y la cantidad de consonantes presentes en la cadena. Ignora los espacios y considera mayúsculas y minúsculas de manera insensible.\n"
   ]
  },
  {
   "cell_type": "code",
   "execution_count": 53,
   "metadata": {},
   "outputs": [
    {
     "data": {
      "text/plain": [
       "(4, 5)"
      ]
     },
     "execution_count": 53,
     "metadata": {},
     "output_type": "execute_result"
    }
   ],
   "source": [
    "def letters(text):\n",
    "    text = text.lower()\n",
    "    text = text.replace(\" \", \"\")\n",
    "    vowels = [\"a\", \"e\", \"i\", \"o\", \"u\"]\n",
    "    vows = 0\n",
    "    cons = 0\n",
    "    for char in text:\n",
    "        if char in vowels:\n",
    "            vows += 1\n",
    "        else:\n",
    "            cons += 1\n",
    "\n",
    "    return vows, cons\n",
    "\n",
    "letters(\"hola mundo\")"
   ]
  }
 ],
 "metadata": {
  "kernelspec": {
   "display_name": "hackio",
   "language": "python",
   "name": "python3"
  },
  "language_info": {
   "codemirror_mode": {
    "name": "ipython",
    "version": 3
   },
   "file_extension": ".py",
   "mimetype": "text/x-python",
   "name": "python",
   "nbconvert_exporter": "python",
   "pygments_lexer": "ipython3",
   "version": "3.12.4"
  }
 },
 "nbformat": 4,
 "nbformat_minor": 2
}
