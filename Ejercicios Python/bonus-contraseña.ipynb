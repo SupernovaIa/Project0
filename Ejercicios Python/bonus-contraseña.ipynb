{
 "cells": [
  {
   "cell_type": "markdown",
   "metadata": {},
   "source": [
    "<div style=\"text-align: center;\">\n",
    "  <img src=\"https://github.com/Hack-io-Data/Imagenes/blob/main/01-LogosHackio/logo_celeste@4x.png?raw=true\" alt=\"esquema\" />\n",
    "</div>\n"
   ]
  },
  {
   "cell_type": "markdown",
   "metadata": {},
   "source": [
    "# Comprobación de calidad de contraseñas\n",
    "\n",
    "En este ejercicio, tendrás que generar un programa que sea capaz de comprobar la calidad de contraseñas. La seguridad de nuestras contraseñas es fundamental para proteger nuestra información personal y evitar posibles ataques cibernéticos. Para ello, vamos a crear una función llamada `verificar_seguridad_contrasena` que evaluará la calidad de una contraseña. Esta función tomará como argumento la contraseña a evaluar y devolverá si la contraseña es segura o no basado en los siguientes criterios:\n",
    "\n",
    "1. La contraseña deberá tener al menos 8 caracteres.\n",
    "\n",
    "2. La contraseña deberá tener al menos una letra mayúscula.\n",
    "\n",
    "3. La contraseña deberá tener al menos una letra minúscula. \n",
    "\n",
    "4. La contraseña deberá tener al menos un número. \n",
    "\n",
    "5. La contraseña deberá tener al menos un caracter especial. \n",
    "\n",
    "6. La contraseña no deberá tener espacios en blanco. \n",
    "\n",
    "7. La contraseña no deberá tener caracteres repetidos. \n"
   ]
  },
  {
   "cell_type": "code",
   "execution_count": 1,
   "metadata": {},
   "outputs": [],
   "source": [
    "def verificar_seguridad_contrasena(pw):\n",
    "\n",
    "    # Check for repeated characters\n",
    "    for char in pw:\n",
    "        if pw.count(char) > 1:\n",
    "            return False\n",
    "        \n",
    "    # At least one number\n",
    "    numbers = 0\n",
    "    for char in pw:\n",
    "        if char.isdigit():\n",
    "            numbers += 1\n",
    "\n",
    "    if numbers < 1:\n",
    "        return False\n",
    "\n",
    "    # Check minimum length\n",
    "    if len(pw) < 8:\n",
    "        return False\n",
    "    \n",
    "    # At least one character lower and upper\n",
    "    elif pw == pw.upper() or pw == pw.lower():\n",
    "        return False\n",
    "    \n",
    "    # At least an special symbol\n",
    "    elif pw.isalnum():\n",
    "        return False\n",
    "    \n",
    "    # No spaces\n",
    "    elif pw.count(\" \") > 0:\n",
    "        return False\n",
    "    \n",
    "    else: \n",
    "        return True"
   ]
  },
  {
   "cell_type": "code",
   "execution_count": 3,
   "metadata": {},
   "outputs": [
    {
     "data": {
      "text/plain": [
       "False"
      ]
     },
     "execution_count": 3,
     "metadata": {},
     "output_type": "execute_result"
    }
   ],
   "source": [
    "pw = input(\"Introduce una contraseña\")\n",
    "\n",
    "verificar_seguridad_contrasena(pw)"
   ]
  },
  {
   "cell_type": "code",
   "execution_count": 6,
   "metadata": {},
   "outputs": [
    {
     "name": "stdout",
     "output_type": "stream",
     "text": [
      "True\n",
      "False\n",
      "False\n",
      "False\n",
      "False\n"
     ]
    }
   ],
   "source": [
    "# Algunas pruebas\n",
    "passwords = [\"asdfghjklñ*2A\", \"sdfghjklñ*A\", \"sdfgh jklñ*2A\", \"sdfghjklñ*2a\", \"klñ*2A\"]\n",
    "\n",
    "for password in passwords:\n",
    "    print(verificar_seguridad_contrasena(password))"
   ]
  }
 ],
 "metadata": {
  "kernelspec": {
   "display_name": "hackio",
   "language": "python",
   "name": "python3"
  },
  "language_info": {
   "codemirror_mode": {
    "name": "ipython",
    "version": 3
   },
   "file_extension": ".py",
   "mimetype": "text/x-python",
   "name": "python",
   "nbconvert_exporter": "python",
   "pygments_lexer": "ipython3",
   "version": "3.12.4"
  }
 },
 "nbformat": 4,
 "nbformat_minor": 2
}
